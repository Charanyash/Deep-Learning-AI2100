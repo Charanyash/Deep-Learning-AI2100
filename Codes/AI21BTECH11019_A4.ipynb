{
 "cells": [
  {
   "cell_type": "code",
   "execution_count": 1,
   "id": "19b85420",
   "metadata": {},
   "outputs": [],
   "source": [
    "import torch \n",
    "\n",
    "import torch.nn as nn\n",
    "\n",
    "import time \n",
    "\n",
    "import numpy as np\n",
    "\n",
    "import matplotlib.pyplot as plt"
   ]
  },
  {
   "cell_type": "code",
   "execution_count": 2,
   "id": "4591b9da",
   "metadata": {},
   "outputs": [],
   "source": [
    "start = time.time()\n",
    "\n",
    "def CreateData(min_len,max_len,n):\n",
    "    \n",
    "     data = []\n",
    "     labels = []\n",
    "        \n",
    "     for i in range(n):\n",
    "        \n",
    "        point_len = torch.randint(min_len,max_len,(1,)).item() # Generating random length of input\n",
    "        \n",
    "        randm_sq = torch.rand((1,point_len)) # Generating the random sequence\n",
    "        \n",
    "        indices = np.random.choice(point_len,2,replace = False) # Picking two distinct numbers in [1,point_len]\n",
    "        \n",
    "        label_smp = randm_sq[0][indices[0]] + randm_sq[0][indices[1]] # True label of sample\n",
    "        \n",
    "        indices = torch.from_numpy(indices) \n",
    "        \n",
    "        bit_map = torch.zeros(1,point_len).index_fill_(1,indices,1) # Generating the bit map\n",
    "        \n",
    "        data_smp = torch.cat((randm_sq,bit_map)) # concatenate bit map and random seq\n",
    "        \n",
    "        data.append(data_smp) # appending the data to list\n",
    "        \n",
    "        labels.append(label_smp.view(1,1)) # appending the label to list\n",
    "        \n",
    "     return data,labels   \n",
    "        "
   ]
  },
  {
   "cell_type": "code",
   "execution_count": 3,
   "id": "87f1a3a1",
   "metadata": {},
   "outputs": [],
   "source": [
    "min_len_train = 2 # Min length of input seq\n",
    "\n",
    "max_len_train = 9 # Max length of input seq\n",
    "\n",
    "no_train_smps = 6000\n",
    "\n",
    "data,labels = CreateData(min_len_train,max_len_train,no_train_smps) # Creating the Data to train."
   ]
  },
  {
   "cell_type": "markdown",
   "id": "54054d6a",
   "metadata": {},
   "source": [
    "### Elman RNN "
   ]
  },
  {
   "cell_type": "markdown",
   "id": "4d2130cd",
   "metadata": {},
   "source": [
    "> Parameters in Elman RNN can be denoted as U (between input and hidden state) , W (hidden to hidden state) and V (hidden and output state).\n"
   ]
  },
  {
   "cell_type": "code",
   "execution_count": 4,
   "id": "e33f68fe",
   "metadata": {},
   "outputs": [],
   "source": [
    "class Elman_RNN(nn.Module):\n",
    "    \n",
    "    def __init__(self,input_dim,hidden_dim,output_dim):\n",
    "        \n",
    "        super().__init__()\n",
    "        \n",
    "        # Initialsing\n",
    "        self.hdim  = hidden_dim\n",
    "        self.xdim  = input_dim\n",
    "        self.ydim  = output_dim\n",
    "        self.h_0 = torch.zeros(self.hdim,1)\n",
    "        \n",
    "        # Parameters in the model\n",
    "        self.U = nn.Parameter(torch.randn(self.hdim,self.xdim)/(np.sqrt(self.xdim)))\n",
    "        self.bias_h = nn.Parameter(torch.rand(self.hdim,1))\n",
    "        self.W = nn.Parameter(torch.randn(self.hdim,self.hdim)/(np.sqrt(self.hdim)))\n",
    "        self.V = nn.Parameter(torch.randn(self.ydim,self.hdim)/(np.sqrt(self.hdim)))\n",
    "        self.bias_y = nn.Parameter(torch.rand(self.ydim,1))\n",
    "        \n",
    "        \n",
    "    def forward(self,input_sq):\n",
    "        \"\"\"\n",
    "       forward method expects the input sequence of n x input_dim, where n is the no. of elements in the input sequence of depth input_dim.\n",
    "       \"\"\"\n",
    "        self.h_t = self.h_0\n",
    "        Tanh = nn.Tanh()\n",
    "\n",
    "        for input_ in input_sq:\n",
    "            \n",
    "           input_ = input_.view(-1,1)\n",
    "\n",
    "           self.h_t = Tanh(self.U@input_ + self.W@self.h_t + self.bias_h) # Calculating the new hidden state\n",
    "        \n",
    "        self.y_smp = self.V@self.h_t + self.bias_y # Predicted Output\n",
    "       \n",
    "        return self.y_smp\n",
    "    \n",
    "    def train_loop(self,X,y,num_epochs,lr = 0.05):\n",
    "        \n",
    "        # Using MSE loss\n",
    "        loss_fn = nn.MSELoss()\n",
    "        \n",
    "        # Using SGD to update parameters\n",
    "        optimizer = torch.optim.SGD(self.parameters(),lr = lr)\n",
    "        \n",
    "        loss_lst = [] # list to store loss after each epoch. \n",
    "        \n",
    "        no_train_smps = len(X) # Total no. of samples\n",
    "\n",
    "        for epoch in range(num_epochs+1):\n",
    "    \n",
    "           total_loss = 0 # To calculate total loss after each epoch.\n",
    "        \n",
    "           # Shuffling the data in every epoch.\n",
    "           combined_data = list(zip(X,y))\n",
    "           np.random.shuffle(combined_data)\n",
    "           shuffle_data,shuffle_labels = zip(*combined_data)\n",
    "    \n",
    "           for i in range(no_train_smps):\n",
    "             \n",
    "             if epoch == 0 :\n",
    "               # Calculating the loss before learning.\n",
    "               output = self.forward(shuffle_data[i].T) # Output predicted by the model\n",
    "               loss = loss_fn(output,shuffle_labels[i]) # MSE loss\n",
    "               total_loss = total_loss + (loss.detach()).item() # Total loss updated\n",
    "            \n",
    "             else :\n",
    "                 # Making gradients w.r.t parameters '0' after each epoch to avoid accumulation of gradients.\n",
    "                 optimizer.zero_grad()\n",
    "        \n",
    "                 output = self.forward(shuffle_data[i].T)# Model prediction \n",
    "      \n",
    "                 loss = loss_fn(output,shuffle_labels[i]) # MSE loss\n",
    "      \n",
    "                 total_loss = total_loss + (loss.detach()).item() # Total loss is updated after each epoch\n",
    "    \n",
    "                 loss.backward() # Backward pass for gradient of loss w.r.t parameters in model. \n",
    "    \n",
    "                 optimizer.step() # Updating the parameters \n",
    "        \n",
    "           total_loss = (total_loss)/(no_train_smps) \n",
    "           print(\"Training loss of RNN after Epoch {} : {}\".format(epoch,total_loss))\n",
    "           loss_lst.append(total_loss) # Appending the loss after each epoch\n",
    "            \n",
    "        return loss_lst"
   ]
  },
  {
   "cell_type": "code",
   "execution_count": 5,
   "id": "3a77bedf",
   "metadata": {},
   "outputs": [],
   "source": [
    "# According the problem in the hand.\n",
    "\n",
    "input_dim = 2\n",
    "\n",
    "hidden_dim = 5 # Hand Picked\n",
    "\n",
    "output_dim = 1\n",
    "\n",
    "\n",
    "my_RNN = Elman_RNN(input_dim,hidden_dim,output_dim)"
   ]
  },
  {
   "cell_type": "code",
   "execution_count": 6,
   "id": "fa5bc655",
   "metadata": {},
   "outputs": [
    {
     "name": "stdout",
     "output_type": "stream",
     "text": [
      "Training loss of RNN after Epoch 0 : 1.2078196536988446\n",
      "Training loss of RNN after Epoch 1 : 0.07595367766162792\n",
      "Training loss of RNN after Epoch 2 : 0.017857815904676517\n",
      "Training loss of RNN after Epoch 3 : 0.015342125310881414\n",
      "Training loss of RNN after Epoch 4 : 0.013515561880885076\n",
      "Training loss of RNN after Epoch 5 : 0.013421865030487505\n",
      "Training loss of RNN after Epoch 6 : 0.012702209990026537\n",
      "Training loss of RNN after Epoch 7 : 0.012509395389086976\n",
      "Training loss of RNN after Epoch 8 : 0.010940460972925557\n",
      "Training loss of RNN after Epoch 9 : 0.00966629830104117\n",
      "Training loss of RNN after Epoch 10 : 0.008640036185282874\n",
      "Training loss of RNN after Epoch 11 : 0.008986101452969197\n",
      "Training loss of RNN after Epoch 12 : 0.008078996671950542\n",
      "Training loss of RNN after Epoch 13 : 0.007898807925687706\n",
      "Training loss of RNN after Epoch 14 : 0.007194810589769631\n",
      "Training loss of RNN after Epoch 15 : 0.007311094288771971\n",
      "Training loss of RNN after Epoch 16 : 0.007259871990799804\n",
      "Training loss of RNN after Epoch 17 : 0.006918605570525813\n",
      "Training loss of RNN after Epoch 18 : 0.0070306420000360624\n",
      "Training loss of RNN after Epoch 19 : 0.006517932083787395\n",
      "Training loss of RNN after Epoch 20 : 0.006102545490886866\n",
      "Training loss of RNN after Epoch 21 : 0.00619944228947515\n",
      "Training loss of RNN after Epoch 22 : 0.006273532663974419\n",
      "Training loss of RNN after Epoch 23 : 0.005737090888783359\n",
      "Training loss of RNN after Epoch 24 : 0.005622324157543521\n",
      "Training loss of RNN after Epoch 25 : 0.005915773737782904\n",
      "Training loss of RNN after Epoch 26 : 0.005569809698439459\n",
      "Training loss of RNN after Epoch 27 : 0.005226856378514489\n",
      "Training loss of RNN after Epoch 28 : 0.00530956245628379\n",
      "Training loss of RNN after Epoch 29 : 0.005497405963412665\n",
      "Training loss of RNN after Epoch 30 : 0.0053730851755746396\n"
     ]
    }
   ],
   "source": [
    "start_time_rnn = time.time()  # To calculate start time of RNN\n",
    "\n",
    "num_epochs = 30\n",
    "\n",
    "rnn_loss_lst  = my_RNN.train_loop(data,labels,num_epochs)\n",
    "\n",
    "end_time_rnn = time.time()  # To calculate end time of RNN\n",
    "\n",
    "time_rnn = end_time_rnn - start_time_rnn # Time taken by rnn"
   ]
  },
  {
   "cell_type": "code",
   "execution_count": 39,
   "id": "76ee2d5c",
   "metadata": {},
   "outputs": [
    {
     "data": {
      "image/png": "[encoded data removed]",
      "text/plain": [
       "<Figure size 576x432 with 1 Axes>"
      ]
     },
     "metadata": {
      "needs_background": "light"
     },
     "output_type": "display_data"
    }
   ],
   "source": [
    "# Performance of the RNN on train data.\n",
    "\n",
    "Final_loss_rnn = np.full(num_epochs +1,np.round(rnn_loss_lst[-1],decimals = 6))\n",
    "final_rnn = np.round(rnn_loss_lst[-1],decimals = 6)\n",
    "\n",
    "plt.figure(figsize = (8,6))\n",
    "\n",
    "plt.grid()\n",
    "plt.plot(np.arange(num_epochs+1),rnn_loss_lst)\n",
    "plt.plot(np.arange(num_epochs+1),Final_loss_rnn,label = \"Final loss = {}\".format(final_rnn))\n",
    "\n",
    "plt.legend()\n",
    "plt.xlabel(\"No. of epochs\")\n",
    "plt.ylabel(\"MSE loss\")\n",
    "plt.title(\"Performance of RNN on train data\")\n",
    "plt.yscale('log')\n",
    "\n",
    "plt.show()"
   ]
  },
  {
   "cell_type": "markdown",
   "id": "379709b6",
   "metadata": {},
   "source": [
    "## LSTM (Long Short Term Memory)"
   ]
  },
  {
   "cell_type": "code",
   "execution_count": 8,
   "id": "31588acb",
   "metadata": {},
   "outputs": [],
   "source": [
    "class LSTM(nn.Module):\n",
    "    \n",
    "    def __init__(self,input_dim,cell_dim,hidden_dim,output_dim):\n",
    "        \n",
    "        super().__init__()\n",
    "        \n",
    "        # Initialising \n",
    "        self.Cdim  = cell_dim\n",
    "        self.hdim  = hidden_dim\n",
    "        self.xdim  = input_dim\n",
    "        self.ydim  = output_dim\n",
    "        self.h_0 = torch.zeros(self.hdim,1)\n",
    "        self.C_0 = torch.zeros(self.Cdim,1)\n",
    "        \n",
    "        # FORGET GATE PARAMETERS\n",
    "        \n",
    "        self.Wf = nn.Parameter(torch.randn(self.Cdim,self.xdim + self.hdim)/(np.sqrt(self.xdim + self.hdim)))\n",
    "        self.bias_f = nn.Parameter(torch.rand(self.Cdim,1))\n",
    "        \n",
    "        # INPUT GATE PARAMETERS\n",
    "        \n",
    "        self.Wi = nn.Parameter(torch.randn(self.Cdim,self.xdim + self.hdim)/(np.sqrt(self.xdim + self.hdim)))\n",
    "        self.Wc = nn.Parameter(torch.randn(self.Cdim,self.xdim + self.hdim)/(np.sqrt(self.xdim + self.hdim)))\n",
    "        self.bias_i = nn.Parameter(torch.rand(self.Cdim,1))\n",
    "        self.bias_c = nn.Parameter(torch.rand(self.Cdim,1))\n",
    "        \n",
    "        # OUTPUT GATE PARAMETERS\n",
    "        \n",
    "        self.Wo = nn.Parameter(torch.randn(self.Cdim,self.xdim + self.hdim)/(np.sqrt(self.xdim + self.hdim)))\n",
    "        self.bias_o = nn.Parameter(torch.rand(self.Cdim,1))\n",
    "        \n",
    "        # FINAL OUTPUT PARAMETERS\n",
    "        \n",
    "        self.Wy = nn.Parameter(torch.randn(self.ydim,self.hdim)/(np.sqrt(self.hdim)))\n",
    "        self.bias_y = nn.Parameter(torch.rand(self.ydim,1))\n",
    "        \n",
    "        \n",
    "    def forward(self,input_sq):\n",
    "        \"\"\"\n",
    "       forward method expects the input sequence of n x input_dim, where n is the no. of elements in the input sequence of depth input_dim.\n",
    "       \n",
    "       \"\"\"\n",
    "        # Initialised the cell state and hidden state.\n",
    "        self.h_t = self.h_0\n",
    "        self.C_t = self.C_0\n",
    "        \n",
    "        Tanh = nn.Tanh() # Tanh non-linearity\n",
    "        Sigmoid = nn.Sigmoid() # Sigmoid non-linearity\n",
    "\n",
    "        for input_ in input_sq:\n",
    "            \n",
    "           input_ = input_.view(-1,1) # Adjusting the input to appropriate shape\n",
    "        \n",
    "           concat_vec = torch.cat((self.h_t,input_)) # Concatenating the hidden state and input  \n",
    "           \n",
    "           self.f_t = Sigmoid(self.Wf@concat_vec + self.bias_f) # To do selective erase of prev hidden state\n",
    "           self.i_t = Sigmoid(self.Wi@concat_vec + self.bias_i) # To do selective read from prev hidden state\n",
    "            \n",
    "           cand = Tanh(self.Wc@concat_vec + self.bias_c) # Candidate cell state\n",
    "           \n",
    "           self.C_t = self.C_t*self.f_t + self.i_t*cand # New cell state\n",
    "           self.o_t = Sigmoid(self.Wo@concat_vec + self.bias_o) # To do selective write on prev hidden write\n",
    "           self.h_t = Tanh(self.C_t)*self.o_t # New hidden state\n",
    "        \n",
    "        self.y_smp = self.Wy@self.h_t + self.bias_y # Output predicted by model\n",
    "        \n",
    "        return self.y_smp\n",
    "    \n",
    "    def train_loop(self,X,y,num_epochs,lr = 0.05):\n",
    "        \n",
    "        # Using MSE loss\n",
    "        loss_fn = nn.MSELoss()\n",
    "        \n",
    "        # Using SGD to update parameters\n",
    "        optimizer = torch.optim.SGD(self.parameters(),lr = lr)\n",
    "        \n",
    "        loss_lst = [] # list to store loss after each epoch. \n",
    "        \n",
    "        no_train_smps = len(X) # Total no. of samples\n",
    "\n",
    "        for epoch in range(num_epochs+1):\n",
    "    \n",
    "           total_loss = 0 # To calculate total loss after each epoch.\n",
    "        \n",
    "           # Shuffling the data in every epoch.\n",
    "           combined_data = list(zip(X,y))\n",
    "           np.random.shuffle(combined_data)\n",
    "           shuffle_data,shuffle_labels = zip(*combined_data)\n",
    "    \n",
    "           for i in range(no_train_smps):\n",
    "             \n",
    "             if epoch == 0 :\n",
    "               # Calculating the loss before learning.\n",
    "               output = self.forward(shuffle_data[i].T) # Output predicted by the model\n",
    "               loss = loss_fn(output,shuffle_labels[i]) # MSE loss\n",
    "               total_loss = total_loss + (loss.detach()).item() # Total loss updated\n",
    "            \n",
    "             else :\n",
    "                 # Making gradients w.r.t parameters '0' after each epoch to avoid accumulation of gradients.\n",
    "                 optimizer.zero_grad()\n",
    "        \n",
    "                 output = self.forward(shuffle_data[i].T)# Model prediction \n",
    "      \n",
    "                 loss = loss_fn(output,shuffle_labels[i]) # MSE loss\n",
    "      \n",
    "                 total_loss = total_loss + (loss.detach()).item() # Total loss is updated after each epoch\n",
    "    \n",
    "                 loss.backward() # Backward pass for gradient of loss w.r.t parameters in model. \n",
    "    \n",
    "                 optimizer.step() # Updating the parameters \n",
    "        \n",
    "           total_loss = (total_loss)/(no_train_smps) \n",
    "           print(\"Training loss of LSTM after Epoch {} : {}\".format(epoch,total_loss))\n",
    "           loss_lst.append(total_loss) # Appending the loss after each epoch\n",
    "            \n",
    "        return loss_lst"
   ]
  },
  {
   "cell_type": "code",
   "execution_count": 9,
   "id": "4eca9228",
   "metadata": {},
   "outputs": [],
   "source": [
    "# According to the problem in hand\n",
    "\n",
    "input_dim = 2\n",
    "\n",
    "hidden_dim = 5 # Hand Picked\n",
    "\n",
    "cell_dim = 5 # Hand Picked (In general cell_dim = hidden_dim)\n",
    "\n",
    "output_dim = 1\n",
    "\n",
    "\n",
    "my_LSTM = LSTM(input_dim,cell_dim,hidden_dim,output_dim)"
   ]
  },
  {
   "cell_type": "code",
   "execution_count": 10,
   "id": "ef8ba5d0",
   "metadata": {},
   "outputs": [
    {
     "name": "stdout",
     "output_type": "stream",
     "text": [
      "Training loss of LSTM after Epoch 0 : 0.6082444860130446\n",
      "Training loss of LSTM after Epoch 1 : 0.060712202559813494\n",
      "Training loss of LSTM after Epoch 2 : 0.003983750224069809\n",
      "Training loss of LSTM after Epoch 3 : 0.002479700258435095\n",
      "Training loss of LSTM after Epoch 4 : 0.0019286306264500693\n",
      "Training loss of LSTM after Epoch 5 : 0.0014973981448757143\n",
      "Training loss of LSTM after Epoch 6 : 0.0013213806735756187\n",
      "Training loss of LSTM after Epoch 7 : 0.0011432147859834626\n",
      "Training loss of LSTM after Epoch 8 : 0.0009557177989707484\n",
      "Training loss of LSTM after Epoch 9 : 0.0008414438210348379\n",
      "Training loss of LSTM after Epoch 10 : 0.0007600395673916599\n",
      "Training loss of LSTM after Epoch 11 : 0.0006877350152118544\n",
      "Training loss of LSTM after Epoch 12 : 0.0006366128100727534\n",
      "Training loss of LSTM after Epoch 13 : 0.0005948998642229097\n",
      "Training loss of LSTM after Epoch 14 : 0.0005489427190438262\n",
      "Training loss of LSTM after Epoch 15 : 0.0005076045398905893\n",
      "Training loss of LSTM after Epoch 16 : 0.0004754010065089274\n",
      "Training loss of LSTM after Epoch 17 : 0.00045062547225313326\n",
      "Training loss of LSTM after Epoch 18 : 0.0004348246027915826\n",
      "Training loss of LSTM after Epoch 19 : 0.00040777877172945885\n",
      "Training loss of LSTM after Epoch 20 : 0.00038708123387550366\n",
      "Training loss of LSTM after Epoch 21 : 0.0003762541108176391\n",
      "Training loss of LSTM after Epoch 22 : 0.0003602589464949566\n",
      "Training loss of LSTM after Epoch 23 : 0.00034862739665442324\n",
      "Training loss of LSTM after Epoch 24 : 0.0003346957102474715\n",
      "Training loss of LSTM after Epoch 25 : 0.00032219827276454125\n",
      "Training loss of LSTM after Epoch 26 : 0.0003067592252232248\n",
      "Training loss of LSTM after Epoch 27 : 0.00030243323275513874\n",
      "Training loss of LSTM after Epoch 28 : 0.0002869906381983441\n",
      "Training loss of LSTM after Epoch 29 : 0.00028709354143366476\n",
      "Training loss of LSTM after Epoch 30 : 0.00026272487775067833\n"
     ]
    }
   ],
   "source": [
    "# Training the LSTM\n",
    "\n",
    "start_time_lstm = time.time() # To calculate start time of lstm\n",
    "\n",
    "num_epochs = 30\n",
    "\n",
    "lstm_loss_lst  = my_LSTM.train_loop(data,labels,num_epochs)\n",
    "\n",
    "end_time_lstm = time.time() # To calculate end time of lstm\n",
    "\n",
    "time_lstm = end_time_lstm - start_time_lstm  # Time taken by the LSTM "
   ]
  },
  {
   "cell_type": "code",
   "execution_count": 37,
   "id": "763f92b9",
   "metadata": {},
   "outputs": [
    {
     "data": {
      "image/png": "[encoded data removed]",
      "text/plain": [
       "<Figure size 576x432 with 1 Axes>"
      ]
     },
     "metadata": {
      "needs_background": "light"
     },
     "output_type": "display_data"
    }
   ],
   "source": [
    "# Performance of the LSTM on train data.\n",
    "\n",
    "Final_loss_lstm = np.full(num_epochs +1,np.round(lstm_loss_lst[-1],decimals = 6))\n",
    "lstm_ls = np.round(lstm_loss_lst[-1],decimals = 6)\n",
    "plt.figure(figsize = (8,6))\n",
    "plt.grid()\n",
    "plt.plot(np.arange(num_epochs+1),lstm_loss_lst)\n",
    "plt.plot(np.arange(num_epochs+1),Final_loss_lstm,label = \"Final Loss = {}\".format(lstm_ls))\n",
    "\n",
    "plt.xlabel(\"No. of epochs\")\n",
    "plt.ylabel(\"MSE loss\")\n",
    "plt.legend()\n",
    "plt.yscale('log')\n",
    "plt.title(\"Performance of LSTM on train data\")\n",
    "\n",
    "plt.show()"
   ]
  },
  {
   "cell_type": "markdown",
   "id": "18eb56af",
   "metadata": {},
   "source": [
    "## GRU(Gated Recurrent Unit)"
   ]
  },
  {
   "cell_type": "code",
   "execution_count": 12,
   "id": "f7b61eed",
   "metadata": {},
   "outputs": [],
   "source": [
    "class GRU(nn.Module):\n",
    "    \n",
    "      def __init__(self,input_dim,hidden_dim,output_dim):\n",
    "        \n",
    "        super().__init__()\n",
    "        \n",
    "        # Initialising\n",
    "        self.hdim  = hidden_dim\n",
    "        self.xdim  = input_dim\n",
    "        self.ydim  = output_dim\n",
    "        self.h_0 = torch.zeros(self.hdim,1)\n",
    "        \n",
    "        # RESET GATE PARAMETERS\n",
    "        \n",
    "        self.Wr = nn.Parameter(torch.randn(self.hdim,self.xdim + self.hdim)/(np.sqrt(self.xdim+self.hdim)))\n",
    "        self.bias_r = nn.Parameter(torch.rand(self.hdim,1))\n",
    "        \n",
    "        # UPDATE GATE PARAMETERS\n",
    "        \n",
    "        self.Wz = nn.Parameter(torch.randn(self.hdim,self.xdim + self.hdim)/(np.sqrt(self.xdim+self.hdim)))\n",
    "        self.Wch = nn.Parameter(torch.randn(self.hdim,self.xdim + self.hdim)/(np.sqrt(self.xdim+self.hdim)))\n",
    "        self.bias_z = nn.Parameter(torch.rand(self.hdim,1))\n",
    "        self.bias_ch = nn.Parameter(torch.rand(self.hdim,1))\n",
    "        \n",
    "        # FINAL OUTPUT PARAMETERS\n",
    "        \n",
    "        self.Wy =  nn.Parameter(torch.randn(self.ydim,self.hdim)/(np.sqrt(self.hdim)))\n",
    "        self.bias_y = nn.Parameter(torch.rand(self.ydim,1))\n",
    "        \n",
    "      def forward(self,input_sq):\n",
    "        \"\"\"\n",
    "       forward method expects the input sequence of n x input_dim, where n is the no. of elements in the input sequence of depth input_dim.\n",
    "       \n",
    "       \"\"\"\n",
    "        \n",
    "        self.h_t = self.h_0\n",
    "        \n",
    "        Tanh = nn.Tanh()\n",
    "        Sigmoid = nn.Sigmoid()\n",
    "\n",
    "        for input_ in input_sq:\n",
    "            \n",
    "           input_ = input_.view(-1,1)\n",
    "        \n",
    "           concat_vec1 = torch.cat((self.h_t,input_)) # Concatenating the hidden state and input\n",
    "            \n",
    "           self.r_t = Sigmoid(self.Wr@concat_vec1 + self.bias_r) # To reset the hidden state\n",
    "           reset_hid = self.r_t*self.h_t # Reseted hidden state.\n",
    "        \n",
    "           concat_vec2 = torch.cat((reset_hid,input_)) # Concatenating the reseted hidden state and input\n",
    "           cand_hid = Tanh(self.Wch@concat_vec2 + self.bias_ch) # Candidate hidden state\n",
    "        \n",
    "           self.z_t = Sigmoid(self.Wz@concat_vec1 + self.bias_z) # To update the hidden state\n",
    "           self.h_t = (1 - self.z_t)*self.h_t + self.z_t*cand_hid  # Updated hidden state\n",
    "        \n",
    "        self.y_smp = self.Wy@self.h_t + self.bias_y # Predicting the output\n",
    "       \n",
    "        return self.y_smp\n",
    "    \n",
    "      def train_loop(self,X,y,num_epochs,lr = 0.05):\n",
    "        \n",
    "        # Using MSE loss\n",
    "        loss_fn = nn.MSELoss()\n",
    "        \n",
    "        # Using SGD to update parameters\n",
    "        optimizer = torch.optim.SGD(self.parameters(),lr = lr)\n",
    "        \n",
    "        loss_lst = [] # list to store loss after each epoch. \n",
    "        \n",
    "        no_train_smps = len(X) # Total no. of samples\n",
    "\n",
    "        for epoch in range(num_epochs+1):\n",
    "    \n",
    "           total_loss = 0 # To calculate total loss after each epoch.\n",
    "        \n",
    "           # Shuffling the data in every epoch.\n",
    "           combined_data = list(zip(X,y))\n",
    "           np.random.shuffle(combined_data)\n",
    "           shuffle_data,shuffle_labels = zip(*combined_data)\n",
    "    \n",
    "           for i in range(no_train_smps):\n",
    "             \n",
    "             if epoch == 0 :\n",
    "               # Calculating the loss before learning.\n",
    "               output = self.forward(shuffle_data[i].T) # Output predicted by the model\n",
    "               loss = loss_fn(output,shuffle_labels[i]) # MSE loss\n",
    "               total_loss = total_loss + (loss.detach()).item() # Total loss updated\n",
    "            \n",
    "             else :\n",
    "                 # Making gradients w.r.t parameters '0' after each epoch to avoid accumulation of gradients.\n",
    "                 optimizer.zero_grad()\n",
    "        \n",
    "                 output = self.forward(shuffle_data[i].T)# Model prediction \n",
    "      \n",
    "                 loss = loss_fn(output,shuffle_labels[i]) # MSE loss\n",
    "      \n",
    "                 total_loss = total_loss + (loss.detach()).item() # Total loss is updated after each epoch\n",
    "    \n",
    "                 loss.backward() # Backward pass for gradient of loss w.r.t parameters in model. \n",
    "    \n",
    "                 optimizer.step() # Updating the parameters \n",
    "        \n",
    "           total_loss = (total_loss)/(no_train_smps) \n",
    "           print(\"Training loss of GRU after Epoch {} : {}\".format(epoch,total_loss))\n",
    "           loss_lst.append(total_loss) # Appending the loss after each epoch\n",
    "            \n",
    "        \n",
    "        return loss_lst"
   ]
  },
  {
   "cell_type": "code",
   "execution_count": 13,
   "id": "116b90a4",
   "metadata": {},
   "outputs": [],
   "source": [
    "# According to the problem in hand\n",
    "\n",
    "input_dim = 2\n",
    "\n",
    "hidden_dim = 5 # Hand Picked\n",
    "\n",
    "output_dim = 1\n",
    "\n",
    "\n",
    "my_GRU = GRU(input_dim,hidden_dim,output_dim)"
   ]
  },
  {
   "cell_type": "code",
   "execution_count": 14,
   "id": "171960fd",
   "metadata": {},
   "outputs": [
    {
     "name": "stdout",
     "output_type": "stream",
     "text": [
      "Training loss of GRU after Epoch 0 : 0.544993598575412\n",
      "Training loss of GRU after Epoch 1 : 0.04102904054704698\n",
      "Training loss of GRU after Epoch 2 : 0.002210196418136898\n",
      "Training loss of GRU after Epoch 3 : 0.0012734574935567118\n",
      "Training loss of GRU after Epoch 4 : 0.0008961675489894941\n",
      "Training loss of GRU after Epoch 5 : 0.0007424762966409441\n",
      "Training loss of GRU after Epoch 6 : 0.0006302214665684686\n",
      "Training loss of GRU after Epoch 7 : 0.0005405162542813861\n",
      "Training loss of GRU after Epoch 8 : 0.00047949025708027726\n",
      "Training loss of GRU after Epoch 9 : 0.0004477553638416136\n",
      "Training loss of GRU after Epoch 10 : 0.0003993181383316795\n",
      "Training loss of GRU after Epoch 11 : 0.00036361594277986066\n",
      "Training loss of GRU after Epoch 12 : 0.00032789942162210944\n",
      "Training loss of GRU after Epoch 13 : 0.0003028005635904443\n",
      "Training loss of GRU after Epoch 14 : 0.0002832376145826044\n",
      "Training loss of GRU after Epoch 15 : 0.0002579412425853048\n",
      "Training loss of GRU after Epoch 16 : 0.0002390174342867303\n",
      "Training loss of GRU after Epoch 17 : 0.00023082574961827084\n",
      "Training loss of GRU after Epoch 18 : 0.0002187136856092534\n",
      "Training loss of GRU after Epoch 19 : 0.00020088089838221694\n",
      "Training loss of GRU after Epoch 20 : 0.00019067405617522818\n",
      "Training loss of GRU after Epoch 21 : 0.00018002516159418747\n",
      "Training loss of GRU after Epoch 22 : 0.00017530066123541842\n",
      "Training loss of GRU after Epoch 23 : 0.000164080992806135\n",
      "Training loss of GRU after Epoch 24 : 0.00015827198985840358\n",
      "Training loss of GRU after Epoch 25 : 0.0001505123743588571\n",
      "Training loss of GRU after Epoch 26 : 0.0001462898558073332\n",
      "Training loss of GRU after Epoch 27 : 0.00013923432536939076\n",
      "Training loss of GRU after Epoch 28 : 0.00013461567983918658\n",
      "Training loss of GRU after Epoch 29 : 0.00013052484229003446\n",
      "Training loss of GRU after Epoch 30 : 0.00012291189990963622\n"
     ]
    }
   ],
   "source": [
    "# Training the GRU\n",
    "\n",
    "start_time_gru = time.time() # To calculate start time of GRU\n",
    "\n",
    "num_epochs = 30\n",
    "\n",
    "gru_loss_lst  = my_GRU.train_loop(data,labels,num_epochs)\n",
    "\n",
    "end_time_gru = time.time() # To calculate end time of GRU\n",
    "\n",
    "time_gru = end_time_gru - start_time_gru # Time taken by GRU "
   ]
  },
  {
   "cell_type": "code",
   "execution_count": 36,
   "id": "de7edd37",
   "metadata": {},
   "outputs": [
    {
     "data": {
      "image/png": "[encoded data removed]",
      "text/plain": [
       "<Figure size 576x432 with 1 Axes>"
      ]
     },
     "metadata": {
      "needs_background": "light"
     },
     "output_type": "display_data"
    }
   ],
   "source": [
    "# Performance of the GRU on train data.\n",
    "\n",
    "Final_loss_gru = np.full(num_epochs +1,np.round(gru_loss_lst[-1],decimals = 6))\n",
    "final_gru = np.round(gru_loss_lst[-1],decimals = 6)\n",
    "\n",
    "plt.figure(figsize = (8,6))\n",
    "\n",
    "plt.grid()\n",
    "\n",
    "plt.plot(np.arange(num_epochs+1),gru_loss_lst)\n",
    "plt.plot(np.arange(num_epochs+1),Final_loss_gru,linestyle = '--',label = 'Final loss = {}'.format(final_gru))\n",
    "plt.xlabel(\"No. of epochs\")\n",
    "plt.ylabel(\"MSE loss\")\n",
    "plt.legend()\n",
    "plt.yscale('log')\n",
    "plt.title(\"Performance of GRU on train data\")\n",
    "\n",
    "plt.show()"
   ]
  },
  {
   "cell_type": "markdown",
   "id": "b7b26c91",
   "metadata": {},
   "source": [
    "## Performance Comparison with Baseline Model"
   ]
  },
  {
   "cell_type": "code",
   "execution_count": 16,
   "id": "25218794",
   "metadata": {},
   "outputs": [
    {
     "name": "stdout",
     "output_type": "stream",
     "text": [
      "Loss incurred by the base-line model on training data is 0.16469626128673553\n"
     ]
    }
   ],
   "source": [
    "# Baseline model always predicts '1' as the label for the input sequence\n",
    "\n",
    "\n",
    "# For Training Data \n",
    "\n",
    "base_pred   = torch.ones(len(data),1)\n",
    "\n",
    "labels_ = torch.tensor(labels).view(-1,1)\n",
    "\n",
    "loss_func = nn.MSELoss()\n",
    "\n",
    "base_loss = loss_func(base_pred,labels_).item()\n",
    "\n",
    "print(\"Loss incurred by the base-line model on training data is\",base_loss)"
   ]
  },
  {
   "cell_type": "code",
   "execution_count": 17,
   "id": "1ef2a8cb",
   "metadata": {},
   "outputs": [
    {
     "data": {
      "image/png": "[encoded data removed]",
      "text/plain": [
       "<Figure size 576x576 with 1 Axes>"
      ]
     },
     "metadata": {
      "needs_background": "light"
     },
     "output_type": "display_data"
    }
   ],
   "source": [
    "# Plot of training loss of all sequential models vs base-line loss\n",
    "\n",
    "plt.figure(figsize = (8,8))\n",
    "\n",
    "plt.grid()\n",
    "\n",
    "plt.plot(np.arange(num_epochs+1),rnn_loss_lst,color = 'y',label = \"RNN\")\n",
    "plt.plot(np.arange(num_epochs+1),lstm_loss_lst,color = 'b',label = \"LSTM\")\n",
    "plt.plot(np.arange(num_epochs+1),gru_loss_lst,color = 'g',label = \"GRU\")\n",
    "plt.axhline(y = base_loss,color = \"r\", label = \"Base-line model\")\n",
    "\n",
    "plt.legend()\n",
    "plt.xlabel(\"No. of Epochs\")\n",
    "plt.ylabel(\"MSE Loss\")\n",
    "plt.title(\"Performance of sequential models vs baseline-model\")\n",
    "plt.yscale('log')\n",
    "plt.show()"
   ]
  },
  {
   "cell_type": "markdown",
   "id": "b9882b64",
   "metadata": {},
   "source": [
    "## Comparing the time taken to train the data\n"
   ]
  },
  {
   "cell_type": "code",
   "execution_count": 18,
   "id": "be77a14a",
   "metadata": {},
   "outputs": [
    {
     "data": {
      "image/png": "[encoded data removed]",
      "text/plain": [
       "<Figure size 576x432 with 1 Axes>"
      ]
     },
     "metadata": {
      "needs_background": "light"
     },
     "output_type": "display_data"
    }
   ],
   "source": [
    "models = np.array([\"Elman RNN\",\"LSTM\",\"GRU\"])\n",
    "\n",
    "time_lst = np.array([time_rnn,time_lstm,time_gru])\n",
    "\n",
    "plt.figure(figsize = (8,6))\n",
    "\n",
    "bars = plt.bar(models,time_lst)\n",
    "    \n",
    "plt.xlabel(\"Sequential Models\")\n",
    "plt.ylabel(\"Time taken\")\n",
    "plt.title(\"Comparison of models on time taken to train\")\n",
    "\n",
    "for bar in bars:\n",
    "    height = np.round(bar.get_height(),decimals = 2)\n",
    "    plt.text((bar.get_x() + bar.get_width()/1.7), height, f'{height}'+'s',ha ='center', va ='bottom')\n",
    "    \n",
    "plt.show()"
   ]
  },
  {
   "cell_type": "markdown",
   "id": "db2ab0c6",
   "metadata": {},
   "source": [
    "- As we can see GRU is time efficient by compromising performance (some times) compared to LSTM"
   ]
  },
  {
   "cell_type": "markdown",
   "id": "28773c75",
   "metadata": {},
   "source": [
    "## Testing "
   ]
  },
  {
   "cell_type": "code",
   "execution_count": 19,
   "id": "1d75ab3c",
   "metadata": {},
   "outputs": [],
   "source": [
    "# Testing Data \n",
    "\n",
    "min_len_test = 2  \n",
    "\n",
    "max_len_test = 15 # (max length is increased compared to training to see how better the model will generalise)\n",
    "\n",
    "no_test_smps = 2000\n",
    "\n",
    "test_data,test_labels = CreateData(min_len_test,max_len_test,no_test_smps) # Creating the data to test."
   ]
  },
  {
   "cell_type": "code",
   "execution_count": 20,
   "id": "743a30c9",
   "metadata": {},
   "outputs": [
    {
     "name": "stdout",
     "output_type": "stream",
     "text": [
      "Loss incurred by the base-line model on testing data is 0.16165854036808014\n"
     ]
    }
   ],
   "source": [
    "# Performance of base line on test data\n",
    "\n",
    "base_pred_test   = torch.ones(len(test_data),1)\n",
    "\n",
    "test_labels_ = torch.tensor(test_labels).view(-1,1)\n",
    "\n",
    "loss_func = nn.MSELoss()\n",
    "\n",
    "base_loss_test = loss_func(base_pred_test,test_labels_)\n",
    "\n",
    "base_loss_test = base_loss_test.item()\n",
    "\n",
    "print(\"Loss incurred by the base-line model on testing data is\",base_loss_test)"
   ]
  },
  {
   "cell_type": "code",
   "execution_count": 21,
   "id": "286906d3",
   "metadata": {},
   "outputs": [
    {
     "name": "stdout",
     "output_type": "stream",
     "text": [
      "Loss incurred by the Elman RNN on testing data is 0.010143366642296314\n"
     ]
    }
   ],
   "source": [
    "# Performance of Elman RNN on Test Data\n",
    "\n",
    "loss_fn = nn.MSELoss()\n",
    "\n",
    "test_loss_rnn = 0\n",
    "    \n",
    "my_RNN.eval()\n",
    "\n",
    "with torch.no_grad():\n",
    "  \n",
    "   for i in range(no_test_smps):\n",
    "        \n",
    "      output = my_RNN(test_data[i].T)\n",
    "      \n",
    "      loss_rnn = loss_fn(output,test_labels[i])\n",
    "      \n",
    "      test_loss_rnn = test_loss_rnn + loss_rnn\n",
    "    \n",
    "   test_loss_rnn = ((test_loss_rnn)/(no_test_smps)).item()\n",
    "   print(\"Loss incurred by the Elman RNN on testing data is\",test_loss_rnn)"
   ]
  },
  {
   "cell_type": "code",
   "execution_count": 22,
   "id": "bd7a4d7f",
   "metadata": {},
   "outputs": [
    {
     "name": "stdout",
     "output_type": "stream",
     "text": [
      "Loss incurred by the LSTM on testing data is 0.00137105502653867\n"
     ]
    }
   ],
   "source": [
    "# Performance of LSTM on Test Data\n",
    "\n",
    "loss_fn = nn.MSELoss()\n",
    "\n",
    "test_loss_lstm = 0\n",
    "    \n",
    "my_LSTM.eval()\n",
    "\n",
    "with torch.no_grad():\n",
    "  \n",
    "   for i in range(no_test_smps):\n",
    "        \n",
    "      output = my_LSTM(test_data[i].T)\n",
    "      \n",
    "      loss_lstm = loss_fn(output,test_labels[i])\n",
    "      \n",
    "      test_loss_lstm = test_loss_lstm + loss_lstm\n",
    "    \n",
    "   test_loss_lstm = ((test_loss_lstm)/(no_test_smps)).item()\n",
    "   print(\"Loss incurred by the LSTM on testing data is\",test_loss_lstm)"
   ]
  },
  {
   "cell_type": "code",
   "execution_count": 23,
   "id": "ddca328a",
   "metadata": {},
   "outputs": [
    {
     "name": "stdout",
     "output_type": "stream",
     "text": [
      "Loss incurred by the GRU on testing data is 0.0006575118750333786\n"
     ]
    }
   ],
   "source": [
    "# Performance of GRU on Test Data\n",
    "\n",
    "loss_fn = nn.MSELoss()\n",
    "\n",
    "test_loss_gru = 0\n",
    "    \n",
    "my_GRU.eval()\n",
    "\n",
    "with torch.no_grad():\n",
    "  \n",
    "   for i in range(no_test_smps):\n",
    "        \n",
    "      output = my_GRU(test_data[i].T)\n",
    "      \n",
    "      loss_gru = loss_fn(output,test_labels[i])\n",
    "      \n",
    "      test_loss_gru = test_loss_gru + loss_gru\n",
    "    \n",
    "   test_loss_gru = ((test_loss_gru)/(no_test_smps)).item()\n",
    "\n",
    "   print(\"Loss incurred by the GRU on testing data is\",test_loss_gru)"
   ]
  },
  {
   "cell_type": "code",
   "execution_count": 24,
   "id": "d3ad1c4d",
   "metadata": {},
   "outputs": [
    {
     "data": {
      "image/png": "[encoded data removed]",
      "text/plain": [
       "<Figure size 576x432 with 1 Axes>"
      ]
     },
     "metadata": {
      "needs_background": "light"
     },
     "output_type": "display_data"
    }
   ],
   "source": [
    "# Plot of testing loss of sequential models vs base-line\n",
    "\n",
    "models = np.array([\"Elman RNN\",\"LSTM\",\"GRU\",\"Base-line\"])\n",
    "\n",
    "test_ls = np.array([test_loss_rnn,test_loss_lstm,test_loss_gru,base_loss_test])\n",
    "\n",
    "plt.figure(figsize = (8,6))\n",
    "\n",
    "bars = plt.bar(models,test_ls)\n",
    "    \n",
    "plt.xlabel(\"Sequential Models\")\n",
    "plt.ylabel(\"Loss incurred on Test Data\")\n",
    "\n",
    "for bar in bars:\n",
    "    height = np.round(bar.get_height(),decimals = 5)\n",
    "    plt.text((bar.get_x() + bar.get_width()/1.7), height, f'{height}',ha ='center', va ='bottom')\n",
    "\n",
    "plt.title(\"Comparison of models on Test data\")\n",
    "\n",
    "plt.show()"
   ]
  },
  {
   "cell_type": "code",
   "execution_count": 25,
   "id": "3e59a936",
   "metadata": {},
   "outputs": [
    {
     "data": {
      "image/png": "[encoded data removed]",
      "text/plain": [
       "<Figure size 576x432 with 1 Axes>"
      ]
     },
     "metadata": {
      "needs_background": "light"
     },
     "output_type": "display_data"
    }
   ],
   "source": [
    "# Explained Variance of three models\n",
    "\n",
    "seq_models = np.array([\"Elman RNN\",\"LSTM\",\"GRU\"])\n",
    "                      \n",
    "exp_var = 1 - test_ls[:3]/(base_loss_test)\n",
    "\n",
    "plt.figure(figsize = (8,6))                \n",
    "bars = plt.bar(seq_models,exp_var)\n",
    "\n",
    "plt.xlabel(\"Sequential Models\")\n",
    "plt.ylabel(\"Explained Variance\")\n",
    "plt.title(\"Performance based on explained variance w.r.t base-line\")\n",
    "\n",
    "for bar in bars:\n",
    "    height = np.round(bar.get_height(),decimals = 5)\n",
    "    plt.text((bar.get_x() + bar.get_width()/1.7), height, f'{height}',ha ='center', va ='bottom')\n",
    "                      \n",
    "plt.show()"
   ]
  },
  {
   "cell_type": "code",
   "execution_count": 26,
   "id": "54f7a8a2",
   "metadata": {},
   "outputs": [
    {
     "name": "stdout",
     "output_type": "stream",
     "text": [
      "Total time taken to run the whole code : 458.7232897281647\n"
     ]
    }
   ],
   "source": [
    "end = time.time()\n",
    "print(\"Total time taken to run the whole code : {}\".format(end-start))"
   ]
  }
 ],
 "metadata": {
  "kernelspec": {
   "display_name": "Python 3 (ipykernel)",
   "language": "python",
   "name": "python3"
  },
  "language_info": {
   "codemirror_mode": {
    "name": "ipython",
    "version": 3
   },
   "file_extension": ".py",
   "mimetype": "text/x-python",
   "name": "python",
   "nbconvert_exporter": "python",
   "pygments_lexer": "ipython3",
   "version": "3.10.6"
  }
 },
 "nbformat": 4,
 "nbformat_minor": 5
}
